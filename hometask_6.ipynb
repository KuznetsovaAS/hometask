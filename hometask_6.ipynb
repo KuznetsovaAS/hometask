{
 "cells": [
  {
   "cell_type": "markdown",
   "metadata": {},
   "source": [
    "# Домашнее задание.\n",
    "Рассмотрим граф  G=(V,E), вершинам которого случайным образом приписаны значения 0 и 1 так, что смежные вершины не могут одновременно иметь значение 1.\n",
    "\n",
    "Оценить, сколько в среднем закрашенных вершин будет иметь такой граф.\n",
    "\n",
    "Сформулируем задачу в математических терминах.\n",
    "\n",
    "Пусть ξ∈{0,1} обозначает конфигурацию графа (расстановку 0 и 1 по вершинам). Назовем конфигурацию допустимой, если вершины, соединенные ребрами, не имеют одновременно значения 1. Пусть ZG - общее количество допустимых конфигураций. Зададим распределение на множестве всех конфигураций:\n",
    "\n",
    "μ(ξ)={ 1/ZG, ξ - допустимая конфигурация; 0 - иначе }.\n",
    "\n",
    "Обозначим n(ξ) - число закрашенных вершин в конфигурации ξ.\n",
    "\n",
    "Задание\n",
    "\n",
    "1) Оценить  En(ξ)  с помощью МСМС для графа 8х8\n",
    "\n",
    "2) Обосновать численно и графически стационарность\n",
    "\n",
    "3) Построить график распределения  n(ξ)"
   ]
  },
  {
   "cell_type": "code",
   "execution_count": 2,
   "metadata": {},
   "outputs": [],
   "source": [
    "import matplotlib.pyplot as plt\n",
    "import numpy as np\n",
    "\n",
    "def plot_grid(narr):\n",
    "    '''Plots 2d lattice with vertices colored in black and red according to given mask.\n",
    "    Vertice is colored black if narr[i, j] == True and red otherwise.\n",
    "    \n",
    "    Parameters\n",
    "    ----------\n",
    "    narr : 2d boolean ndarray\n",
    "        Mask for vertices colors\n",
    "    '''\n",
    "\n",
    "    if narr.dtype != 'bool':\n",
    "        raise ValueError('narr should be a boolean ndarray')\n",
    "    colors = np.empty(narr.shape, dtype='U5')\n",
    "    colors[:] = 'red'\n",
    "    colors[narr] = 'black'\n",
    "    x, y = np.indices((narr.shape))\n",
    "    plt.scatter(x, y, c=colors.ravel())\n",
    "    plt.show()"
   ]
  },
  {
   "cell_type": "code",
   "execution_count": 3,
   "metadata": {},
   "outputs": [],
   "source": [
    "def metroplis(start, value, proposal, niter, nburn=0, **kwargs):\n",
    "    '''Generic Metropolis scheme.\n",
    "    Parameters\n",
    "    ---\n",
    "    start : misc\n",
    "        Initial guess.\n",
    "    value : callable\n",
    "        Function to calculate density (unnormalized) at given point.\n",
    "    proposal : callable\n",
    "        Function to get suggestion on a new point based on a current one.\n",
    "    niter : int\n",
    "        Number of iterations.\n",
    "    nburn : int\n",
    "        Number of initial samples to be skipped.\n",
    "    kwargs : dict\n",
    "        Keywords to be passed in value and proposal.\n",
    "\n",
    "    Return\n",
    "    ---\n",
    "    post : list\n",
    "        List of samples obtained.\n",
    "    '''\n",
    "    current = start\n",
    "    post = [0]\n",
    "    for i in range(niter):\n",
    "        proposed = proposal(current, **kwargs)\n",
    "        if value(**kwargs) == 1:\n",
    "            current = proposed\n",
    "        post.append(int(np.sum(current)))\n",
    "    plot_grid(current.astype('bool'))\n",
    "    return post[nburn:]"
   ]
  },
  {
   "cell_type": "code",
   "execution_count": 8,
   "metadata": {},
   "outputs": [
    {
     "data": {
      "image/png": "[encoded data removed]",
      "text/plain": [
       "<Figure size 432x288 with 1 Axes>"
      ]
     },
     "metadata": {
      "needs_background": "light"
     },
     "output_type": "display_data"
    }
   ],
   "source": [
    "def value(**kwargs):\n",
    "    _ = kwargs\n",
    "    return np.random.choice([0, 1])\n",
    "\n",
    "\n",
    "def proposal(current, **kwargs):\n",
    "    _ = kwargs\n",
    "    i = np.random.choice(8,2)\n",
    "    \n",
    "    s=0\n",
    "    if i[0]!=0:\n",
    "        s+=current[i[0]-1][i[1]]\n",
    "    if i[0]!=7:\n",
    "        s+=current[i[0]+1][i[1]]\n",
    "    if i[1]!=0:\n",
    "        s+=current[i[0]][i[1]-1]\n",
    "    if i[1]!=7:\n",
    "        s+=current[i[0]][i[1]+1]\n",
    "    \n",
    "    if s==0:\n",
    "        current[i[0]][i[1]] = 1\n",
    "    else:\n",
    "        current[i[0]][i[1]] = 0\n",
    "    return current\n",
    "\n",
    "size = 8\n",
    "narr = np.random.choice([0, 1], size=size**2).reshape((size, size))\n",
    "\n",
    "post = metroplis(np.zeros((8,8)), value, proposal, 1000)"
   ]
  },
  {
   "cell_type": "code",
   "execution_count": 9,
   "metadata": {},
   "outputs": [
    {
     "name": "stdout",
     "output_type": "stream",
     "text": [
      "Оценка количества закрашенных вершин в графе: \n",
      "23.988011988011987\n"
     ]
    }
   ],
   "source": [
    "print(\"Оценка количества закрашенных вершин в графе: \")\n",
    "print(sum(post)/len(post))"
   ]
  },
  {
   "cell_type": "code",
   "execution_count": 10,
   "metadata": {},
   "outputs": [],
   "source": [
    "def g_test(x, start=0.1, end=0.1):\n",
    "    return stats.ttest_ind(x[:int(len(x) * start)], x[-int(len(x) * end):], equal_var=False)"
   ]
  },
  {
   "cell_type": "code",
   "execution_count": 24,
   "metadata": {},
   "outputs": [
    {
     "data": {
      "image/png": "[encoded data removed]",
      "text/plain": [
       "<Figure size 432x288 with 1 Axes>"
      ]
     },
     "metadata": {
      "needs_background": "light"
     },
     "output_type": "display_data"
    },
    {
     "data": {
      "text/plain": [
       "Ttest_indResult(statistic=-1.0000000000000715, pvalue=0.3202170191670163)"
      ]
     },
     "execution_count": 24,
     "metadata": {},
     "output_type": "execute_result"
    }
   ],
   "source": [
    "#Из численных и графических данных можно сделать вывод о стационарности\n",
    "from scipy import stats\n",
    "plt.plot(post)\n",
    "plt.show()\n",
    "\n",
    "g_test(post[155:1000])"
   ]
  },
  {
   "cell_type": "code",
   "execution_count": 61,
   "metadata": {},
   "outputs": [
    {
     "data": {
      "image/png": "[encoded data removed]",
      "text/plain": [
       "<Figure size 432x288 with 1 Axes>"
      ]
     },
     "metadata": {
      "needs_background": "light"
     },
     "output_type": "display_data"
    }
   ],
   "source": [
    "#График распределения числа закрашенных вершин\n",
    "u = np.unique(np.array(post))\n",
    "P = [(np.array(post)==i).sum() for i in u]\n",
    "P/=sum(P)\n",
    "F = [P[:i].sum() for i in range(1,len(P)+1)]\n",
    "\n",
    "d = np.sort(np.hstack((u, np.append(u, max(u)+1))))\n",
    "dd = np.sort(np.hstack((np.append(F, 0), F)))\n",
    "\n",
    "plt.plot(d,dd)\n",
    "plt.show()"
   ]
  }
 ],
 "metadata": {
  "kernelspec": {
   "display_name": "Python 3",
   "language": "python",
   "name": "python3"
  },
  "language_info": {
   "codemirror_mode": {
    "name": "ipython",
    "version": 3
   },
   "file_extension": ".py",
   "mimetype": "text/x-python",
   "name": "python",
   "nbconvert_exporter": "python",
   "pygments_lexer": "ipython3",
   "version": "3.7.0"
  }
 },
 "nbformat": 4,
 "nbformat_minor": 2
}
