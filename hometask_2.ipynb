{
 "cells": [
  {
   "cell_type": "code",
   "execution_count": 1,
   "metadata": {},
   "outputs": [
    {
     "name": "stdout",
     "output_type": "stream",
     "text": [
      "[[0.77584823 0.21808705 0.35828868]\n",
      " [0.17724074 0.29735264 0.07019834]\n",
      " [0.11263447 0.97720731 0.59530331]\n",
      " [0.15747506 0.14430189 0.63580704]\n",
      " [0.60370993 0.24159938 0.55764615]\n",
      " [0.96495818 0.08171085 0.87124958]\n",
      " [0.58854608 0.00546527 0.9267361 ]\n",
      " [0.90601054 0.12610216 0.09451465]\n",
      " [0.10103742 0.61650723 0.23239272]\n",
      " [0.44912849 0.80086943 0.80649741]]\n",
      "[0.35828868 0.29735264 0.59530331 0.63580704 0.55764615 0.87124958\n",
      " 0.58854608 0.12610216 0.61650723 0.44912849]\n"
     ]
    }
   ],
   "source": [
    "#Exersize 1\n",
    "import numpy as np\n",
    "a = np.random.random((10,3))\n",
    "print(a)\n",
    "b = (np.arange(10),np.abs(a-0.5).argmin(axis=1))\n",
    "print(a[b])"
   ]
  },
  {
   "cell_type": "code",
   "execution_count": 2,
   "metadata": {},
   "outputs": [
    {
     "name": "stdout",
     "output_type": "stream",
     "text": [
      "[[0.52054087 0.89591538 0.19212261 0.55507548 0.85751929 0.01246598]\n",
      " [0.23639976 0.36861898 0.93042152 0.98515072 0.31623005 0.40461071]\n",
      " [0.06003669 0.09574601 0.10450782 0.96558627 0.13013553 0.20114437]\n",
      " [0.95625817 0.31525149 0.80065872 0.30053942 0.657292   0.7302412 ]\n",
      " [0.39608868 0.0668105  0.35680789 0.49804723 0.71263484 0.19823109]\n",
      " [0.15025707 0.96929922 0.19963687 0.48179378 0.03780904 0.92241154]]\n",
      "[ 50.52975725  48.51680463  14.8999054   12.51163997  58.94411757\n",
      " 221.49950076]\n"
     ]
    }
   ],
   "source": [
    "#Exersize 2\n",
    "a = np.random.random((6,6))\n",
    "print(a)\n",
    "b = (a.sum(axis=1)/a.min(axis=0))\n",
    "print(b)"
   ]
  },
  {
   "cell_type": "code",
   "execution_count": 3,
   "metadata": {},
   "outputs": [
    {
     "name": "stdout",
     "output_type": "stream",
     "text": [
      "[3 0 5]\n"
     ]
    },
    {
     "data": {
      "text/plain": [
       "5"
      ]
     },
     "execution_count": 3,
     "metadata": {},
     "output_type": "execute_result"
    }
   ],
   "source": [
    "#Exersize 3\n",
    "x = np.array([6, 2, 0, 3, 0, 0, 5, 7, 0])\n",
    "b = np.array(x[1:][x[:-1]==0])\n",
    "print(b)\n",
    "b.max()"
   ]
  },
  {
   "cell_type": "code",
   "execution_count": 4,
   "metadata": {},
   "outputs": [
    {
     "name": "stdout",
     "output_type": "stream",
     "text": [
      "[2 2 2 2 1 4 1 1 2 1]\n"
     ]
    }
   ],
   "source": [
    "#Exersize 4\n",
    "x = np.ones(10, dtype=np.int32)\n",
    "i = np.array([0, 1, 2, 3, 5, 5, 5, 8])\n",
    "ii = np.unique(i, return_counts = True)\n",
    "x[ii[0]]+=ii[1]\n",
    "print(x)"
   ]
  },
  {
   "cell_type": "code",
   "execution_count": 5,
   "metadata": {},
   "outputs": [
    {
     "name": "stdout",
     "output_type": "stream",
     "text": [
      "[[ 0  1  2  3]\n",
      " [ 4  5  6  7]\n",
      " [ 8  9 10 11]\n",
      " [12 13 14 15]]\n",
      "{0: [0], 1: [1, 4], 2: [2, 5, 8], 3: [3, 6, 9, 12], 4: [7, 10, 13], 5: [11, 14], 6: [15]}\n"
     ]
    }
   ],
   "source": [
    "#Exersize 5\n",
    "a = np.arange(16).reshape(4, 4)\n",
    "print(a)\n",
    "d = {}\n",
    "for i in range(7):\n",
    "    d[i]=[a[j][k] for j in range(4) for k in range(4) if j+k==i]\n",
    "print(d)"
   ]
  },
  {
   "cell_type": "code",
   "execution_count": 16,
   "metadata": {},
   "outputs": [
    {
     "name": "stdout",
     "output_type": "stream",
     "text": [
      "Number of clasters: 3\n",
      "Number of koordinates: 2\n"
     ]
    },
    {
     "data": {
      "image/png": "[encoded data removed]",
      "text/plain": [
       "<Figure size 432x288 with 1 Axes>"
      ]
     },
     "metadata": {
      "needs_background": "light"
     },
     "output_type": "display_data"
    }
   ],
   "source": [
    "import matplotlib.pyplot as plt\n",
    "\n",
    "def kmeans(data,centroids):\n",
    "    copy = centroids-1\n",
    "    while np.all(copy!=centroids):\n",
    "        copy = centroids\n",
    "        dist = [[np.linalg.norm(datas[0:]-centroid[0:]) for datas in data] for centroid in centroids]\n",
    "        res = np.argmin(dist, axis=0)\n",
    "        centroids = np.array([np.mean(data[res==i], axis = 0) for i in range(k) if i in res])\n",
    "    return centroids\n",
    "\n",
    "def get_labels(data, centroids):\n",
    "    dist = [[np.linalg.norm(datas[0:]-centroid[0:]) for datas in data] for centroid in centroids]\n",
    "    labels = np.argmin(dist, axis=0)\n",
    "    return labels\n",
    "\n",
    "data = np.loadtxt('faithful.dat', usecols=(1,2))\n",
    "k = int(input(\"Number of clasters: \"))\n",
    "n = int(input(\"Number of koordinates: \"))\n",
    "\n",
    "data=(data-data.mean(axis=0))/data.std(axis=0)\n",
    "\n",
    "centroids = data[:k]\n",
    "centroids = kmeans(data, centroids)\n",
    "labels = get_labels(data, centroids)\n",
    "\n",
    "plt.scatter(*data.T, c=np.hstack((np.array([\"red\", \"green\", \"yellow\", \"black\", \"blue\", \"orange\"]) for i in range(k//6+1)))[labels], s=20)\n",
    "plt.scatter(*centroids.T, c=[\"black\"], s=95, marker='*')\n",
    "plt.title('Predicted Classes')\n",
    "plt.show()"
   ]
  }
 ],
 "metadata": {
  "kernelspec": {
   "display_name": "Python 3",
   "language": "python",
   "name": "python3"
  },
  "language_info": {
   "codemirror_mode": {
    "name": "ipython",
    "version": 3
   },
   "file_extension": ".py",
   "mimetype": "text/x-python",
   "name": "python",
   "nbconvert_exporter": "python",
   "pygments_lexer": "ipython3",
   "version": "3.7.0"
  }
 },
 "nbformat": 4,
 "nbformat_minor": 2
}
