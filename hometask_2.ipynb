{
 "cells": [
  {
   "cell_type": "code",
   "execution_count": 1,
   "metadata": {},
   "outputs": [
    {
     "name": "stdout",
     "output_type": "stream",
     "text": [
      "[[0.43148531 0.57588058 0.54721407]\n",
      " [0.61267365 0.17570043 0.49884987]\n",
      " [0.52807004 0.77288318 0.19298654]\n",
      " [0.06653301 0.00322211 0.69332508]\n",
      " [0.5560489  0.61693567 0.74478267]\n",
      " [0.29613842 0.31946423 0.4778419 ]\n",
      " [0.92210081 0.87591524 0.21503383]\n",
      " [0.97042224 0.18243125 0.7606602 ]\n",
      " [0.49372501 0.91174184 0.22975197]\n",
      " [0.41090071 0.11416188 0.79113545]]\n",
      "[0.54721407 0.49884987 0.52807004 0.69332508 0.5560489  0.4778419\n",
      " 0.21503383 0.7606602  0.49372501 0.41090071]\n"
     ]
    }
   ],
   "source": [
    "#Exersize 1\n",
    "import numpy as np\n",
    "a = np.random.random((10,3))\n",
    "print(a)\n",
    "b = (np.arange(10),np.abs(a-0.5).argmin(axis=1))\n",
    "print(a[b])"
   ]
  },
  {
   "cell_type": "code",
   "execution_count": 2,
   "metadata": {},
   "outputs": [
    {
     "name": "stdout",
     "output_type": "stream",
     "text": [
      "[[0.42183239 0.6127992  0.20918556 0.41831708 0.01354764 0.3921    ]\n",
      " [0.09163562 0.4890356  0.02973276 0.11229041 0.81357629 0.91501528]\n",
      " [0.88198872 0.68316086 0.47538006 0.23105603 0.1666439  0.01795021]\n",
      " [0.07987356 0.52824233 0.75087803 0.67297579 0.75973277 0.56479158]\n",
      " [0.71053871 0.82358675 0.26004776 0.78802244 0.3658684  0.20161188]\n",
      " [0.21722888 0.74223729 0.26860164 0.66491977 0.99154866 0.47136065]]\n",
      "[ 25.88818997   5.01248981  82.6085416   29.89118972 232.48889599\n",
      " 186.95582206]\n"
     ]
    }
   ],
   "source": [
    "#Exersize 2\n",
    "a = np.random.random((6,6))\n",
    "print(a)\n",
    "b = (a.sum(axis=1)/a.min(axis=0))\n",
    "print(b)"
   ]
  },
  {
   "cell_type": "code",
   "execution_count": 3,
   "metadata": {},
   "outputs": [
    {
     "name": "stdout",
     "output_type": "stream",
     "text": [
      "[3 0 5]\n"
     ]
    },
    {
     "data": {
      "text/plain": [
       "5"
      ]
     },
     "execution_count": 3,
     "metadata": {},
     "output_type": "execute_result"
    }
   ],
   "source": [
    "#Exersize 3\n",
    "x = np.array([6, 2, 0, 3, 0, 0, 5, 7, 0])\n",
    "b = np.array(x[1:][x[:-1]==0])\n",
    "print(b)\n",
    "b.max()"
   ]
  },
  {
   "cell_type": "code",
   "execution_count": 4,
   "metadata": {},
   "outputs": [
    {
     "name": "stdout",
     "output_type": "stream",
     "text": [
      "[2 2 2 2 1 4 1 1 2 1]\n"
     ]
    }
   ],
   "source": [
    "#Exersize 4\n",
    "x = np.ones(10, dtype=np.int32)\n",
    "i = np.array([0, 1, 2, 3, 5, 5, 5, 8])\n",
    "ii = np.unique(i, return_counts = True)\n",
    "x[ii[0]]+=ii[1]\n",
    "print(x)"
   ]
  },
  {
   "cell_type": "code",
   "execution_count": 5,
   "metadata": {},
   "outputs": [
    {
     "name": "stdout",
     "output_type": "stream",
     "text": [
      "[[ 0  1  2  3]\n",
      " [ 4  5  6  7]\n",
      " [ 8  9 10 11]\n",
      " [12 13 14 15]]\n",
      "{0: [0], 1: [1, 4], 2: [2, 5, 8], 3: [3, 6, 9, 12], 4: [7, 10, 13], 5: [11, 14], 6: [15]}\n"
     ]
    }
   ],
   "source": [
    "#Exersize 5\n",
    "a = np.arange(16).reshape(4, 4)\n",
    "print(a)\n",
    "d = {}\n",
    "for i in range(7):\n",
    "    d[i]=[a[j][k] for j in range(4) for k in range(4) if j+k==i]\n",
    "print(d)"
   ]
  },
  {
   "cell_type": "code",
   "execution_count": 40,
   "metadata": {},
   "outputs": [
    {
     "name": "stdout",
     "output_type": "stream",
     "text": [
      "Number of clasters: 5\n",
      "Number of koordinates: 2\n"
     ]
    },
    {
     "data": {
      "image/png": "[encoded data removed]",
      "text/plain": [
       "<Figure size 432x288 with 1 Axes>"
      ]
     },
     "metadata": {
      "needs_background": "light"
     },
     "output_type": "display_data"
    }
   ],
   "source": [
    "import matplotlib.pyplot as plt\n",
    "\n",
    "def get_labels(data, centroids):\n",
    "    copy = centroids-1\n",
    "    while np.all(copy!=centroids):\n",
    "        copy = centroids\n",
    "        dist = [[np.linalg.norm(datas[0:]-centroid[0:]) for datas in data] for centroid in centroids]\n",
    "        res = np.argmin(dist, axis=0)\n",
    "        centroids = np.array([np.mean(data[res==i], axis = 0) for i in range(k) if i in res])\n",
    "        if len(copy)>len(centroids):\n",
    "            copy = centroids-1\n",
    "    return [res, centroids]\n",
    "\n",
    "data = np.loadtxt('faithful.dat', usecols=(1,2))\n",
    "k = int(input(\"Number of clasters: \"))\n",
    "n = int(input(\"Number of koordinates: \"))\n",
    "centroids = data[:k]\n",
    "[labels, centroids] = get_labels(data, centroids)\n",
    "plt.scatter(*data.T, c=np.hstack((np.array([\"red\", \"green\", \"yellow\", \"black\", \"blue\", \"orange\"]) for i in range(k//6+1)))[labels], s=20)\n",
    "plt.scatter(*centroids.T, c=[\"red\", \"green\", \"yellow\", \"black\", \"blue\", \"orange\"], s=95, marker='*')\n",
    "plt.title('Predicted Classes')\n",
    "plt.show()"
   ]
  }
 ],
 "metadata": {
  "kernelspec": {
   "display_name": "Python 3",
   "language": "python",
   "name": "python3"
  },
  "language_info": {
   "codemirror_mode": {
    "name": "ipython",
    "version": 3
   },
   "file_extension": ".py",
   "mimetype": "text/x-python",
   "name": "python",
   "nbconvert_exporter": "python",
   "pygments_lexer": "ipython3",
   "version": "3.7.0"
  }
 },
 "nbformat": 4,
 "nbformat_minor": 2
}
