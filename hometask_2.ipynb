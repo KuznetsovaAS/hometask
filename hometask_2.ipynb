{
 "cells": [
  {
   "cell_type": "code",
   "execution_count": 3,
   "metadata": {},
   "outputs": [
    {
     "name": "stdout",
     "output_type": "stream",
     "text": [
      "[[0.70671867 0.70084153 0.8504491 ]\n",
      " [0.88624314 0.71637608 0.18110073]\n",
      " [0.75762823 0.7375718  0.08073255]\n",
      " [0.04474911 0.47451671 0.02317183]\n",
      " [0.19236548 0.62578629 0.09305368]\n",
      " [0.94828149 0.27832296 0.7892572 ]\n",
      " [0.69763515 0.57009508 0.56223076]\n",
      " [0.70575258 0.41011898 0.47656321]\n",
      " [0.64207673 0.53350931 0.82448388]\n",
      " [0.99960789 0.72046051 0.48389017]]\n",
      "[0.70084153 0.71637608 0.7375718  0.47451671 0.62578629 0.27832296\n",
      " 0.56223076 0.47656321 0.53350931 0.48389017]\n"
     ]
    }
   ],
   "source": [
    "#Exersize 1\n",
    "import numpy as np\n",
    "a = np.random.random((10,3))\n",
    "print(a)\n",
    "b = (np.arange(10),np.abs(a-0.5).argmin(axis=1))\n",
    "print(a[b])"
   ]
  },
  {
   "cell_type": "code",
   "execution_count": 5,
   "metadata": {},
   "outputs": [
    {
     "name": "stdout",
     "output_type": "stream",
     "text": [
      "[[0.34215911 0.98848866 0.01097585 0.65340608 0.97566343 0.72521947]\n",
      " [0.36830523 0.2063966  0.46415615 0.44464212 0.19690393 0.17212015]\n",
      " [0.77738866 0.51969373 0.79727936 0.20780257 0.02857433 0.20268792]\n",
      " [0.44124638 0.22924712 0.11636477 0.12785603 0.82430936 0.20836713]\n",
      " [0.03953587 0.78696623 0.75730405 0.30724172 0.58260281 0.88094743]\n",
      " [0.66723204 0.24782442 0.8013929  0.83451666 0.68105749 0.7382356 ]]\n",
      "[ 93.48251054   8.97555575 230.8181879   15.23112257 117.39899557\n",
      "  23.06678856]\n"
     ]
    }
   ],
   "source": [
    "#Exersize 2\n",
    "a = np.random.random((6,6))\n",
    "print(a)\n",
    "b = (a.sum(axis=1)/a.min(axis=0))\n",
    "print(b)"
   ]
  },
  {
   "cell_type": "code",
   "execution_count": 8,
   "metadata": {},
   "outputs": [
    {
     "name": "stdout",
     "output_type": "stream",
     "text": [
      "[3 0 5]\n"
     ]
    },
    {
     "data": {
      "text/plain": [
       "5"
      ]
     },
     "execution_count": 8,
     "metadata": {},
     "output_type": "execute_result"
    }
   ],
   "source": [
    "#Exersize 3\n",
    "x = np.array([6, 2, 0, 3, 0, 0, 5, 7, 0])\n",
    "b = np.array(x[1:][x[:-1]==0])\n",
    "print(b)\n",
    "b.max()"
   ]
  },
  {
   "cell_type": "code",
   "execution_count": 22,
   "metadata": {},
   "outputs": [
    {
     "name": "stdout",
     "output_type": "stream",
     "text": [
      "(array([0, 1, 2, 3, 5, 8]), array([1, 1, 1, 1, 3, 1], dtype=int64))\n",
      "[2 2 2 2 1 4 1 1 2 1]\n"
     ]
    }
   ],
   "source": [
    "#Exersize 4\n",
    "x = np.ones(10, dtype=np.int32)\n",
    "i = np.array([0, 1, 2, 3, 5, 5, 5, 8])\n",
    "ii = np.unique(i, return_counts = True)\n",
    "x[ii[0]]+=ii[1]\n",
    "print(x)"
   ]
  },
  {
   "cell_type": "code",
   "execution_count": 5,
   "metadata": {},
   "outputs": [
    {
     "name": "stdout",
     "output_type": "stream",
     "text": [
      "[[ 0  1  2  3]\n",
      " [ 4  5  6  7]\n",
      " [ 8  9 10 11]\n",
      " [12 13 14 15]]\n",
      "{0: [0], 1: [1, 4], 2: [2, 5, 8], 3: [3, 6, 9, 12], 4: [7, 10, 13], 5: [11, 14], 6: [15]}\n"
     ]
    }
   ],
   "source": [
    "#Exersize 5\n",
    "a = np.arange(16).reshape(4, 4)\n",
    "print(a)\n",
    "d = {}\n",
    "for i in range(7):\n",
    "    d[i]=[a[j][k] for j in range(4) for k in range(4) if j+k==i]\n",
    "print(d)"
   ]
  },
  {
   "cell_type": "code",
   "execution_count": 72,
   "metadata": {},
   "outputs": [
    {
     "data": {
      "image/png": "[encoded data removed]",
      "text/plain": [
       "<Figure size 432x288 with 1 Axes>"
      ]
     },
     "metadata": {
      "needs_background": "light"
     },
     "output_type": "display_data"
    }
   ],
   "source": [
    "import matplotlib.pyplot as plt\n",
    "\n",
    "def get_labels(data, centroids):\n",
    "    copy = centroids-1\n",
    "    kolvo = []\n",
    "    while np.all(copy!=centroids):\n",
    "        copy = centroids\n",
    "        dist = [[np.linalg.norm(datas[0:]-centroid[0:]) for datas in data] for centroid in centroids]\n",
    "        res = np.argmin(dist, axis=0)\n",
    "        centroids = np.array([np.mean(data[res==i], axis = 0) for i in range(len(centroids))])\n",
    "    return [res, centroids]\n",
    "\n",
    "data  = np.array([[ 1.9,2.3], [ 1.5,2.5], [ 0.8,0.6], [ 0.4,1.8], [ 0.1,0.1], [ 0.2,1.8], [ 2.0,0.5], [ 0.3,1.5], [ 1.0,1.0], [ 1.2,1 ], [ 1.35,1.24 ], [ -0.23,0.78 ], [ -0.21,1.7 ]])\n",
    "centroids = np.random.uniform(-2, 2, 4).reshape((2, 2))\n",
    "np.linalg.norm(data[0:]-centroids[0])\n",
    "[labels, centroids] = get_labels(data, centroids)\n",
    "plt.scatter(*data.T, c=np.where(labels, \"green\", \"red\"), s=20)\n",
    "plt.scatter(*centroids.T, c=[\"red\", \"green\"], s=95, marker='*')\n",
    "plt.title('Predicted Classes')\n",
    "plt.show()"
   ]
  }
 ],
 "metadata": {
  "kernelspec": {
   "display_name": "Python 3",
   "language": "python",
   "name": "python3"
  },
  "language_info": {
   "codemirror_mode": {
    "name": "ipython",
    "version": 3
   },
   "file_extension": ".py",
   "mimetype": "text/x-python",
   "name": "python",
   "nbconvert_exporter": "python",
   "pygments_lexer": "ipython3",
   "version": "3.7.0"
  }
 },
 "nbformat": 4,
 "nbformat_minor": 2
}
